{
 "metadata": {
  "name": "",
  "signature": "sha256:3f1acc02e45cc5559da899a9c11be8d3e6a4a7bd8d77568b21e2b113e8980e24"
 },
 "nbformat": 3,
 "nbformat_minor": 0,
 "worksheets": [
  {
   "cells": [
    {
     "cell_type": "code",
     "collapsed": false,
     "input": [
      "import pandas as pd\n",
      "from pandas import DataFrame, Series"
     ],
     "language": "python",
     "metadata": {},
     "outputs": [],
     "prompt_number": 1
    },
    {
     "cell_type": "markdown",
     "metadata": {},
     "source": [
      "Daten bis zum 26. M\u00e4rz 2015 aus externer MongoDB (1,2 MByte, 6954 Zeilen) "
     ]
    },
    {
     "cell_type": "code",
     "collapsed": false,
     "input": [
      "df = pd.read_csv('../twitter/demographics_Drachenkrieg.csv', sep=';')"
     ],
     "language": "python",
     "metadata": {},
     "outputs": [],
     "prompt_number": 2
    },
    {
     "cell_type": "code",
     "collapsed": false,
     "input": [
      "df[-5:]"
     ],
     "language": "python",
     "metadata": {},
     "outputs": [
      {
       "html": [
        "<div style=\"max-height:1000px;max-width:1500px;overflow:auto;\">\n",
        "<table border=\"1\" class=\"dataframe\">\n",
        "  <thead>\n",
        "    <tr style=\"text-align: right;\">\n",
        "      <th></th>\n",
        "      <th>name</th>\n",
        "      <th>sex</th>\n",
        "      <th>age</th>\n",
        "    </tr>\n",
        "  </thead>\n",
        "  <tbody>\n",
        "    <tr>\n",
        "      <th>87</th>\n",
        "      <td>     Peter</td>\n",
        "      <td>   male</td>\n",
        "      <td> 59</td>\n",
        "    </tr>\n",
        "    <tr>\n",
        "      <th>88</th>\n",
        "      <td>    Marcel</td>\n",
        "      <td>   male</td>\n",
        "      <td> 35</td>\n",
        "    </tr>\n",
        "    <tr>\n",
        "      <th>89</th>\n",
        "      <td>   Michael</td>\n",
        "      <td>   male</td>\n",
        "      <td> 35</td>\n",
        "    </tr>\n",
        "    <tr>\n",
        "      <th>90</th>\n",
        "      <td> Christine</td>\n",
        "      <td> female</td>\n",
        "      <td> 52</td>\n",
        "    </tr>\n",
        "    <tr>\n",
        "      <th>91</th>\n",
        "      <td>     Katja</td>\n",
        "      <td> female</td>\n",
        "      <td> 44</td>\n",
        "    </tr>\n",
        "  </tbody>\n",
        "</table>\n",
        "</div>"
       ],
       "metadata": {},
       "output_type": "pyout",
       "prompt_number": 3,
       "text": [
        "         name     sex  age\n",
        "87      Peter    male   59\n",
        "88     Marcel    male   35\n",
        "89    Michael    male   35\n",
        "90  Christine  female   52\n",
        "91      Katja  female   44"
       ]
      }
     ],
     "prompt_number": 3
    },
    {
     "cell_type": "code",
     "collapsed": false,
     "input": [
      "%pylab\n",
      "%matplotlib inline\n"
     ],
     "language": "python",
     "metadata": {},
     "outputs": [
      {
       "output_type": "stream",
       "stream": "stdout",
       "text": [
        "Using matplotlib backend: MacOSX\n",
        "Populating the interactive namespace from numpy and matplotlib\n"
       ]
      }
     ],
     "prompt_number": 10
    },
    {
     "cell_type": "code",
     "collapsed": false,
     "input": [
      "#Plot a histogram of frequencies\n",
      "df['age'].value_counts().plot(kind='barh')\n",
      "plt.title('Number of appearances in dataset')\n",
      "plt.xlabel('Frequency')"
     ],
     "language": "python",
     "metadata": {},
     "outputs": [
      {
       "metadata": {},
       "output_type": "pyout",
       "prompt_number": 13,
       "text": [
        "<matplotlib.text.Text at 0x10baa9710>"
       ]
      },
      {
       "metadata": {},
       "output_type": "display_data",
       "png": "[encoded data removed]",
       "text": [
        "<matplotlib.figure.Figure at 0x10bab1910>"
       ]
      }
     ],
     "prompt_number": 13
    },
    {
     "cell_type": "code",
     "collapsed": false,
     "input": [
      "df['sex'].value_counts()"
     ],
     "language": "python",
     "metadata": {},
     "outputs": [
      {
       "metadata": {},
       "output_type": "pyout",
       "prompt_number": 6,
       "text": [
        "male      69\n",
        "female    23\n",
        "dtype: int64"
       ]
      }
     ],
     "prompt_number": 6
    },
    {
     "cell_type": "code",
     "collapsed": false,
     "input": [
      "df['age'].value_counts()"
     ],
     "language": "python",
     "metadata": {},
     "outputs": [
      {
       "metadata": {},
       "output_type": "pyout",
       "prompt_number": 7,
       "text": [
        "35     17\n",
        "36      8\n",
        "9       5\n",
        "10      5\n",
        "40      5\n",
        "49      3\n",
        "21      3\n",
        "59      3\n",
        "41      3\n",
        "16      2\n",
        "17      2\n",
        "20      2\n",
        "39      2\n",
        "45      2\n",
        "44      2\n",
        "50      2\n",
        "78      2\n",
        "61      2\n",
        "65      2\n",
        "24      1\n",
        "80      1\n",
        "12      1\n",
        "13      1\n",
        "14      1\n",
        "15      1\n",
        "68      1\n",
        "66      1\n",
        "28      1\n",
        "47      1\n",
        "32      1\n",
        "60      1\n",
        "37      1\n",
        "55      1\n",
        "53      1\n",
        "52      1\n",
        "82      1\n",
        "51      1\n",
        "46      1\n",
        "102     1\n",
        "dtype: int64"
       ]
      }
     ],
     "prompt_number": 7
    },
    {
     "cell_type": "code",
     "collapsed": false,
     "input": [],
     "language": "python",
     "metadata": {},
     "outputs": []
    }
   ],
   "metadata": {}
  }
 ]
}